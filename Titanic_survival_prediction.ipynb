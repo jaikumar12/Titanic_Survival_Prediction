{
 "cells": [
  {
   "cell_type": "markdown",
   "id": "afc04fe9",
   "metadata": {},
   "source": [
    "  #                                  Titanic_Survival_Prediction"
   ]
  },
  {
   "cell_type": "markdown",
   "id": "7fd14f40",
   "metadata": {},
   "source": [
    "## Import necessary libraries"
   ]
  },
  {
   "cell_type": "code",
   "execution_count": 1,
   "id": "f3299dbc",
   "metadata": {},
   "outputs": [],
   "source": [
    "import numpy as np               # NumPy, a library for numerical computations\n",
    "import pandas as pd              # Pandas, a library for data manipulation and analysis\n",
    "import seaborn as sns            # Seaborn, a data visualization library based on Matplotlib\n",
    "import matplotlib.pyplot as plt  # Matplotlib, a data visualization library\n",
    "%matplotlib inline               # A magic command for displaying plots directly in Jupyter Notebook \n",
    "                                 # @(not needed in regular Python scripts)"
   ]
  },
  {
   "cell_type": "code",
   "execution_count": 2,
   "id": "553ffc62",
   "metadata": {},
   "outputs": [],
   "source": [
    "# Read a CSV file into a Pandas DataFrame\n",
    "titanic_df = pd.read_csv(r'C:\\Users\\Jaiku\\Downloads\\train.csv')"
   ]
  },
  {
   "cell_type": "code",
   "execution_count": 3,
   "id": "feeb5735",
   "metadata": {},
   "outputs": [
    {
     "data": {
      "text/html": [
       "<div>\n",
       "<style scoped>\n",
       "    .dataframe tbody tr th:only-of-type {\n",
       "        vertical-align: middle;\n",
       "    }\n",
       "\n",
       "    .dataframe tbody tr th {\n",
       "        vertical-align: top;\n",
       "    }\n",
       "\n",
       "    .dataframe thead th {\n",
       "        text-align: right;\n",
       "    }\n",
       "</style>\n",
       "<table border=\"1\" class=\"dataframe\">\n",
       "  <thead>\n",
       "    <tr style=\"text-align: right;\">\n",
       "      <th></th>\n",
       "      <th>PassengerId</th>\n",
       "      <th>Survived</th>\n",
       "      <th>Pclass</th>\n",
       "      <th>Name</th>\n",
       "      <th>Sex</th>\n",
       "      <th>Age</th>\n",
       "      <th>SibSp</th>\n",
       "      <th>Parch</th>\n",
       "      <th>Ticket</th>\n",
       "      <th>Fare</th>\n",
       "      <th>Cabin</th>\n",
       "      <th>Embarked</th>\n",
       "    </tr>\n",
       "  </thead>\n",
       "  <tbody>\n",
       "    <tr>\n",
       "      <th>0</th>\n",
       "      <td>1</td>\n",
       "      <td>0</td>\n",
       "      <td>3</td>\n",
       "      <td>Braund, Mr. Owen Harris</td>\n",
       "      <td>male</td>\n",
       "      <td>22.0</td>\n",
       "      <td>1</td>\n",
       "      <td>0</td>\n",
       "      <td>A/5 21171</td>\n",
       "      <td>7.2500</td>\n",
       "      <td>NaN</td>\n",
       "      <td>S</td>\n",
       "    </tr>\n",
       "    <tr>\n",
       "      <th>1</th>\n",
       "      <td>2</td>\n",
       "      <td>1</td>\n",
       "      <td>1</td>\n",
       "      <td>Cumings, Mrs. John Bradley (Florence Briggs Th...</td>\n",
       "      <td>female</td>\n",
       "      <td>38.0</td>\n",
       "      <td>1</td>\n",
       "      <td>0</td>\n",
       "      <td>PC 17599</td>\n",
       "      <td>71.2833</td>\n",
       "      <td>C85</td>\n",
       "      <td>C</td>\n",
       "    </tr>\n",
       "    <tr>\n",
       "      <th>2</th>\n",
       "      <td>3</td>\n",
       "      <td>1</td>\n",
       "      <td>3</td>\n",
       "      <td>Heikkinen, Miss. Laina</td>\n",
       "      <td>female</td>\n",
       "      <td>26.0</td>\n",
       "      <td>0</td>\n",
       "      <td>0</td>\n",
       "      <td>STON/O2. 3101282</td>\n",
       "      <td>7.9250</td>\n",
       "      <td>NaN</td>\n",
       "      <td>S</td>\n",
       "    </tr>\n",
       "    <tr>\n",
       "      <th>3</th>\n",
       "      <td>4</td>\n",
       "      <td>1</td>\n",
       "      <td>1</td>\n",
       "      <td>Futrelle, Mrs. Jacques Heath (Lily May Peel)</td>\n",
       "      <td>female</td>\n",
       "      <td>35.0</td>\n",
       "      <td>1</td>\n",
       "      <td>0</td>\n",
       "      <td>113803</td>\n",
       "      <td>53.1000</td>\n",
       "      <td>C123</td>\n",
       "      <td>S</td>\n",
       "    </tr>\n",
       "    <tr>\n",
       "      <th>4</th>\n",
       "      <td>5</td>\n",
       "      <td>0</td>\n",
       "      <td>3</td>\n",
       "      <td>Allen, Mr. William Henry</td>\n",
       "      <td>male</td>\n",
       "      <td>35.0</td>\n",
       "      <td>0</td>\n",
       "      <td>0</td>\n",
       "      <td>373450</td>\n",
       "      <td>8.0500</td>\n",
       "      <td>NaN</td>\n",
       "      <td>S</td>\n",
       "    </tr>\n",
       "  </tbody>\n",
       "</table>\n",
       "</div>"
      ],
      "text/plain": [
       "   PassengerId  Survived  Pclass  \\\n",
       "0            1         0       3   \n",
       "1            2         1       1   \n",
       "2            3         1       3   \n",
       "3            4         1       1   \n",
       "4            5         0       3   \n",
       "\n",
       "                                                Name     Sex   Age  SibSp  \\\n",
       "0                            Braund, Mr. Owen Harris    male  22.0      1   \n",
       "1  Cumings, Mrs. John Bradley (Florence Briggs Th...  female  38.0      1   \n",
       "2                             Heikkinen, Miss. Laina  female  26.0      0   \n",
       "3       Futrelle, Mrs. Jacques Heath (Lily May Peel)  female  35.0      1   \n",
       "4                           Allen, Mr. William Henry    male  35.0      0   \n",
       "\n",
       "   Parch            Ticket     Fare Cabin Embarked  \n",
       "0      0         A/5 21171   7.2500   NaN        S  \n",
       "1      0          PC 17599  71.2833   C85        C  \n",
       "2      0  STON/O2. 3101282   7.9250   NaN        S  \n",
       "3      0            113803  53.1000  C123        S  \n",
       "4      0            373450   8.0500   NaN        S  "
      ]
     },
     "execution_count": 3,
     "metadata": {},
     "output_type": "execute_result"
    }
   ],
   "source": [
    "# Display the first few rows of the Titanic dataset\n",
    "titanic_df.head()"
   ]
  },
  {
   "cell_type": "code",
   "execution_count": 4,
   "id": "9aae9a38",
   "metadata": {},
   "outputs": [
    {
     "data": {
      "text/plain": [
       "(891, 12)"
      ]
     },
     "execution_count": 4,
     "metadata": {},
     "output_type": "execute_result"
    }
   ],
   "source": [
    "# Get the dimensions (number of rows and columns) of the Titanic dataset\n",
    "titanic_df.shape"
   ]
  },
  {
   "cell_type": "code",
   "execution_count": 5,
   "id": "689dc9ce",
   "metadata": {},
   "outputs": [
    {
     "name": "stdout",
     "output_type": "stream",
     "text": [
      "<class 'pandas.core.frame.DataFrame'>\n",
      "RangeIndex: 891 entries, 0 to 890\n",
      "Data columns (total 12 columns):\n",
      " #   Column       Non-Null Count  Dtype  \n",
      "---  ------       --------------  -----  \n",
      " 0   PassengerId  891 non-null    int64  \n",
      " 1   Survived     891 non-null    int64  \n",
      " 2   Pclass       891 non-null    int64  \n",
      " 3   Name         891 non-null    object \n",
      " 4   Sex          891 non-null    object \n",
      " 5   Age          714 non-null    float64\n",
      " 6   SibSp        891 non-null    int64  \n",
      " 7   Parch        891 non-null    int64  \n",
      " 8   Ticket       891 non-null    object \n",
      " 9   Fare         891 non-null    float64\n",
      " 10  Cabin        204 non-null    object \n",
      " 11  Embarked     889 non-null    object \n",
      "dtypes: float64(2), int64(5), object(5)\n",
      "memory usage: 83.7+ KB\n"
     ]
    }
   ],
   "source": [
    "# Display information about the Titanic dataset including data types and missing values\n",
    "titanic_df.info()"
   ]
  },
  {
   "cell_type": "code",
   "execution_count": 6,
   "id": "59a62043",
   "metadata": {},
   "outputs": [
    {
     "data": {
      "text/plain": [
       "PassengerId      0\n",
       "Survived         0\n",
       "Pclass           0\n",
       "Name             0\n",
       "Sex              0\n",
       "Age            177\n",
       "SibSp            0\n",
       "Parch            0\n",
       "Ticket           0\n",
       "Fare             0\n",
       "Cabin          687\n",
       "Embarked         2\n",
       "dtype: int64"
      ]
     },
     "execution_count": 6,
     "metadata": {},
     "output_type": "execute_result"
    }
   ],
   "source": [
    "# Count the missing (null) values in each column of the Titanic dataset\n",
    "titanic_df.isnull().sum()"
   ]
  },
  {
   "cell_type": "code",
   "execution_count": 7,
   "id": "45273e45",
   "metadata": {},
   "outputs": [],
   "source": [
    "# Remove the 'Cabin' and 'PassengerId' columns from the Titanic dataset\n",
    "titanic_df.drop(['Cabin','PassengerId'],axis = 1,inplace = True)"
   ]
  },
  {
   "cell_type": "code",
   "execution_count": 8,
   "id": "467dde36",
   "metadata": {},
   "outputs": [],
   "source": [
    "# Fill missing values in the 'Age' column with the mean age of passengers\n",
    "titanic_df['Age'].fillna(titanic_df['Age'].mean(),inplace=True)"
   ]
  },
  {
   "cell_type": "code",
   "execution_count": 10,
   "id": "d708d8e7",
   "metadata": {},
   "outputs": [],
   "source": [
    "# Fill missing values in the 'Embarked' column with the most common (mode) value\n",
    "titanic_df['Embarked'].fillna(titanic_df['Embarked'].mode()[0],inplace = True)"
   ]
  },
  {
   "cell_type": "code",
   "execution_count": 11,
   "id": "cf873127",
   "metadata": {},
   "outputs": [
    {
     "data": {
      "text/plain": [
       "Survived    0\n",
       "Pclass      0\n",
       "Name        0\n",
       "Sex         0\n",
       "Age         0\n",
       "SibSp       0\n",
       "Parch       0\n",
       "Ticket      0\n",
       "Fare        0\n",
       "Embarked    0\n",
       "dtype: int64"
      ]
     },
     "execution_count": 11,
     "metadata": {},
     "output_type": "execute_result"
    }
   ],
   "source": [
    "# Check for and count the missing (null) values in each column of the Titanic dataset\n",
    "titanic_df.isnull().sum()"
   ]
  },
  {
   "cell_type": "markdown",
   "id": "b4bc290e",
   "metadata": {},
   "source": [
    "Verify that the dataset has no null values in any columns\n",
    ",If 'missing_values' is empty, it means there are no null values"
   ]
  },
  {
   "cell_type": "markdown",
   "id": "b86e1db9",
   "metadata": {},
   "source": [
    "# EDA"
   ]
  },
  {
   "cell_type": "code",
   "execution_count": 12,
   "id": "e0b8e83e",
   "metadata": {},
   "outputs": [
    {
     "data": {
      "text/plain": [
       "0    549\n",
       "1    342\n",
       "Name: Survived, dtype: int64"
      ]
     },
     "execution_count": 12,
     "metadata": {},
     "output_type": "execute_result"
    }
   ],
   "source": [
    "## Finding the number of people survived or not survived\n",
    "\n",
    "titanic_df['Survived'].value_counts()"
   ]
  },
  {
   "cell_type": "markdown",
   "id": "06d73486",
   "metadata": {},
   "source": [
    "Zero(0) represent --> Not Survived  , \n",
    "One(1) represent --> Survived"
   ]
  },
  {
   "cell_type": "code",
   "execution_count": 13,
   "id": "53bc83f8",
   "metadata": {},
   "outputs": [
    {
     "data": {
      "image/png": "[encoded data removed]",
      "text/plain": [
       "<Figure size 700x500 with 1 Axes>"
      ]
     },
     "metadata": {},
     "output_type": "display_data"
    }
   ],
   "source": [
    "# Create a countplot to visualize the distribution of 'Survived' values\n",
    "# Set the figure size for the plot\n",
    "plt.figure(figsize=(7, 5))\n",
    "\n",
    "# Create the countplot using Seaborn\n",
    "ax = sns.countplot(x='Survived', data=titanic_df)\n",
    "\n",
    "# Adding labels to the bars to improve readability\n",
    "ax.set_xticklabels(['Not Survived (0)', 'Survived (1)'])\n",
    "\n",
    "# Display the plot\n",
    "plt.show()"
   ]
  },
  {
   "cell_type": "markdown",
   "id": "1e74897e",
   "metadata": {},
   "source": [
    "Observing Survived columns we know that number of Survived is less than\n",
    "number of Not Survived"
   ]
  },
  {
   "cell_type": "code",
   "execution_count": 14,
   "id": "4e91b1f0",
   "metadata": {},
   "outputs": [
    {
     "data": {
      "text/plain": [
       "male      577\n",
       "female    314\n",
       "Name: Sex, dtype: int64"
      ]
     },
     "execution_count": 14,
     "metadata": {},
     "output_type": "execute_result"
    }
   ],
   "source": [
    "## Finding number of Male and Female in 'Sex' Column\n",
    "\n",
    "titanic_df['Sex'].value_counts()"
   ]
  },
  {
   "cell_type": "code",
   "execution_count": 15,
   "id": "ef87572e",
   "metadata": {},
   "outputs": [
    {
     "data": {
      "image/png": "[encoded data removed]",
      "text/plain": [
       "<Figure size 700x500 with 1 Axes>"
      ]
     },
     "metadata": {},
     "output_type": "display_data"
    }
   ],
   "source": [
    "# Create a countplot to visualize the distribution of 'Sex' with respect to 'Survived'\n",
    "# Set the figure size for the plot\n",
    "plt.figure(figsize=(7, 5))\n",
    "\n",
    "# Create the countplot using Seaborn, with 'Sex' on the x-axis and 'Survived' as hue\n",
    "ax = sns.countplot(x='Sex', hue='Survived', data=titanic_df)\n",
    "\n",
    "# Adding labels to the legend for clarity\n",
    "legend_labels = ['Not Survived (0)', 'Survived (1)']\n",
    "ax.legend(title='Survived', labels=legend_labels)\n",
    "\n",
    "# Display the plot\n",
    "plt.show()"
   ]
  },
  {
   "cell_type": "markdown",
   "id": "c4d7dff9",
   "metadata": {},
   "source": [
    "By looking the graph , we can understand the number of survived Female is more\n",
    "than Male"
   ]
  },
  {
   "cell_type": "code",
   "execution_count": 16,
   "id": "509629c4",
   "metadata": {},
   "outputs": [
    {
     "data": {
      "text/plain": [
       "3    491\n",
       "1    216\n",
       "2    184\n",
       "Name: Pclass, dtype: int64"
      ]
     },
     "execution_count": 16,
     "metadata": {},
     "output_type": "execute_result"
    }
   ],
   "source": [
    "## Finding the number of people in 'Pclass'\n",
    "\n",
    "titanic_df['Pclass'].value_counts()"
   ]
  },
  {
   "cell_type": "code",
   "execution_count": 17,
   "id": "5a5f52c7",
   "metadata": {},
   "outputs": [
    {
     "data": {
      "image/png": "[encoded data removed]",
      "text/plain": [
       "<Figure size 700x500 with 1 Axes>"
      ]
     },
     "metadata": {},
     "output_type": "display_data"
    }
   ],
   "source": [
    "# Create a countplot to visualize the distribution of 'Pclass' with respect to 'Survived'\n",
    "# Set the figure size for the plot\n",
    "plt.figure(figsize=(7, 5))\n",
    "\n",
    "# Create the countplot using Seaborn, with 'Pclass' on the x-axis and 'Survived' as hue\n",
    "ax = sns.countplot(x='Pclass', hue='Survived', data=titanic_df)\n",
    "\n",
    "# Adding labels to the hue legend and placing it on the left side\n",
    "legend_labels = ['Not Survived (0)', 'Survived (1)']\n",
    "ax.legend(title='Survived', labels=legend_labels, loc='upper left')\n",
    "\n",
    "# Display the plot\n",
    "plt.show()"
   ]
  },
  {
   "cell_type": "markdown",
   "id": "0b433399",
   "metadata": {},
   "source": [
    "By looking the graph we find the number of not survived is more than in Pclass\n",
    "3 as compared the both class"
   ]
  },
  {
   "cell_type": "markdown",
   "id": "5e21df96",
   "metadata": {},
   "source": [
    "Number of survived is more in pclass 1 as compare another two pclass"
   ]
  },
  {
   "cell_type": "code",
   "execution_count": 18,
   "id": "63fdcf72",
   "metadata": {},
   "outputs": [
    {
     "data": {
      "text/plain": [
       "S    646\n",
       "C    168\n",
       "Q     77\n",
       "Name: Embarked, dtype: int64"
      ]
     },
     "execution_count": 18,
     "metadata": {},
     "output_type": "execute_result"
    }
   ],
   "source": [
    "## Finding the number of people in 'Embarked'\n",
    "\n",
    "titanic_df['Embarked'].value_counts()"
   ]
  },
  {
   "cell_type": "code",
   "execution_count": 19,
   "id": "f1fc1d8a",
   "metadata": {},
   "outputs": [
    {
     "data": {
      "image/png": "[encoded data removed]",
      "text/plain": [
       "<Figure size 700x500 with 1 Axes>"
      ]
     },
     "metadata": {},
     "output_type": "display_data"
    }
   ],
   "source": [
    "# Create a countplot to visualize the distribution of 'Embarked' with respect to 'Survived'\n",
    "# Set the figure size for the plot\n",
    "plt.figure(figsize=(7, 5))\n",
    "\n",
    "# Create the countplot using Seaborn, with 'Embarked' on the x-axis and 'Survived' as hue\n",
    "ax = sns.countplot(x='Embarked', hue='Survived', data=titanic_df)\n",
    "\n",
    "# Adding labels to the hue legend\n",
    "legend_labels = ['Not Survived (0)', 'Survived (1)']\n",
    "ax.legend(title='Survived', labels=legend_labels)\n",
    "\n",
    "# Display the plot\n",
    "plt.show()"
   ]
  },
  {
   "cell_type": "markdown",
   "id": "0224cb20",
   "metadata": {},
   "source": [
    "By looking the graph the find number of survived or not survived is more in 's'\n",
    "Embarked as compare to another Embarked"
   ]
  },
  {
   "cell_type": "code",
   "execution_count": 20,
   "id": "a2ad5bba",
   "metadata": {},
   "outputs": [],
   "source": [
    "# Replace values in the 'Sex' and 'Embarked' columns with numeric codes\n",
    "# 'male' is replaced with 0, 'female' with 1, 'S' with 0, 'C' with 1, and 'Q' with 3\n",
    "\n",
    "titanic_df.replace({'Sex':{'male':0,'female':1},'Embarked':{'S':0,'C':1,'Q':3}},inplace = True)"
   ]
  },
  {
   "cell_type": "code",
   "execution_count": 21,
   "id": "c29544fa",
   "metadata": {},
   "outputs": [],
   "source": [
    "# Remove the 'Name' and 'Ticket' columns from the Titanic dataset\n",
    "\n",
    "titanic_df.drop(['Name','Ticket'],axis = 1,inplace = True)"
   ]
  },
  {
   "cell_type": "code",
   "execution_count": 22,
   "id": "8b7255f5",
   "metadata": {},
   "outputs": [
    {
     "data": {
      "text/html": [
       "<div>\n",
       "<style scoped>\n",
       "    .dataframe tbody tr th:only-of-type {\n",
       "        vertical-align: middle;\n",
       "    }\n",
       "\n",
       "    .dataframe tbody tr th {\n",
       "        vertical-align: top;\n",
       "    }\n",
       "\n",
       "    .dataframe thead th {\n",
       "        text-align: right;\n",
       "    }\n",
       "</style>\n",
       "<table border=\"1\" class=\"dataframe\">\n",
       "  <thead>\n",
       "    <tr style=\"text-align: right;\">\n",
       "      <th></th>\n",
       "      <th>Survived</th>\n",
       "      <th>Pclass</th>\n",
       "      <th>Sex</th>\n",
       "      <th>Age</th>\n",
       "      <th>SibSp</th>\n",
       "      <th>Parch</th>\n",
       "      <th>Fare</th>\n",
       "      <th>Embarked</th>\n",
       "    </tr>\n",
       "  </thead>\n",
       "  <tbody>\n",
       "    <tr>\n",
       "      <th>0</th>\n",
       "      <td>0</td>\n",
       "      <td>3</td>\n",
       "      <td>0</td>\n",
       "      <td>22.0</td>\n",
       "      <td>1</td>\n",
       "      <td>0</td>\n",
       "      <td>7.2500</td>\n",
       "      <td>0</td>\n",
       "    </tr>\n",
       "    <tr>\n",
       "      <th>1</th>\n",
       "      <td>1</td>\n",
       "      <td>1</td>\n",
       "      <td>1</td>\n",
       "      <td>38.0</td>\n",
       "      <td>1</td>\n",
       "      <td>0</td>\n",
       "      <td>71.2833</td>\n",
       "      <td>1</td>\n",
       "    </tr>\n",
       "    <tr>\n",
       "      <th>2</th>\n",
       "      <td>1</td>\n",
       "      <td>3</td>\n",
       "      <td>1</td>\n",
       "      <td>26.0</td>\n",
       "      <td>0</td>\n",
       "      <td>0</td>\n",
       "      <td>7.9250</td>\n",
       "      <td>0</td>\n",
       "    </tr>\n",
       "    <tr>\n",
       "      <th>3</th>\n",
       "      <td>1</td>\n",
       "      <td>1</td>\n",
       "      <td>1</td>\n",
       "      <td>35.0</td>\n",
       "      <td>1</td>\n",
       "      <td>0</td>\n",
       "      <td>53.1000</td>\n",
       "      <td>0</td>\n",
       "    </tr>\n",
       "    <tr>\n",
       "      <th>4</th>\n",
       "      <td>0</td>\n",
       "      <td>3</td>\n",
       "      <td>0</td>\n",
       "      <td>35.0</td>\n",
       "      <td>0</td>\n",
       "      <td>0</td>\n",
       "      <td>8.0500</td>\n",
       "      <td>0</td>\n",
       "    </tr>\n",
       "  </tbody>\n",
       "</table>\n",
       "</div>"
      ],
      "text/plain": [
       "   Survived  Pclass  Sex   Age  SibSp  Parch     Fare  Embarked\n",
       "0         0       3    0  22.0      1      0   7.2500         0\n",
       "1         1       1    1  38.0      1      0  71.2833         1\n",
       "2         1       3    1  26.0      0      0   7.9250         0\n",
       "3         1       1    1  35.0      1      0  53.1000         0\n",
       "4         0       3    0  35.0      0      0   8.0500         0"
      ]
     },
     "execution_count": 22,
     "metadata": {},
     "output_type": "execute_result"
    }
   ],
   "source": [
    "# Display the first few rows of the cleaned and preprocessed Titanic dataset\n",
    "titanic_df.head()"
   ]
  },
  {
   "cell_type": "markdown",
   "id": "0a560f22",
   "metadata": {},
   "source": [
    "# Data cleaning and EDA steps have been completed\n",
    "# The dataset is now ready to be split into 'x' (features) and 'y' (target) variables"
   ]
  },
  {
   "cell_type": "code",
   "execution_count": 23,
   "id": "9d3d7190",
   "metadata": {},
   "outputs": [],
   "source": [
    "# Extracting feature variables 'x' and target variable 'y' from the Titanic dataset\n",
    "\n",
    "x = titanic_df.iloc[:,1:].values      # 'x' contains all columns except the first (target)\n",
    "y = titanic_df.iloc[:,0].values       # 'y' contains the first column (target)"
   ]
  },
  {
   "cell_type": "code",
   "execution_count": 24,
   "id": "af803118",
   "metadata": {},
   "outputs": [
    {
     "name": "stdout",
     "output_type": "stream",
     "text": [
      "[[ 3.          0.         22.         ...  0.          7.25\n",
      "   0.        ]\n",
      " [ 1.          1.         38.         ...  0.         71.2833\n",
      "   1.        ]\n",
      " [ 3.          1.         26.         ...  0.          7.925\n",
      "   0.        ]\n",
      " ...\n",
      " [ 3.          1.         29.69911765 ...  2.         23.45\n",
      "   0.        ]\n",
      " [ 1.          0.         26.         ...  0.         30.\n",
      "   1.        ]\n",
      " [ 3.          0.         32.         ...  0.          7.75\n",
      "   3.        ]] \n",
      "\n",
      "\n",
      "[0 1 1 1 0 0 0 0 1 1 1 1 0 0 0 1 0 1 0 1 0 1 1 1 0 1 0 0 1 0 0 1 1 0 0 0 1\n",
      " 0 0 1 0 0 0 1 1 0 0 1 0 0 0 0 1 1 0 1 1 0 1 0 0 1 0 0 0 1 1 0 1 0 0 0 0 0\n",
      " 1 0 0 0 1 1 0 1 1 0 1 1 0 0 1 0 0 0 0 0 0 0 0 1 1 0 0 0 0 0 0 0 1 1 0 1 0\n",
      " 0 0 0 0 0 0 0 0 0 0 0 0 1 0 1 0 1 1 0 0 0 0 1 0 0 1 0 0 0 0 1 1 0 0 0 1 0\n",
      " 0 0 0 1 0 0 0 0 1 0 0 0 0 1 0 0 0 1 1 0 0 0 0 0 1 0 0 0 0 0 0 0 0 0 0 1 1\n",
      " 0 1 1 0 0 1 0 1 1 1 1 0 0 1 0 0 0 0 0 1 0 0 1 1 1 0 1 0 0 0 1 1 0 1 0 1 0\n",
      " 0 0 1 0 1 0 0 0 1 0 0 1 0 0 0 1 0 0 0 1 0 0 0 0 0 1 1 0 0 0 0 0 0 1 1 1 1\n",
      " 1 0 1 0 0 0 0 0 1 1 1 0 1 1 0 1 1 0 0 0 1 0 0 0 1 0 0 1 0 1 1 1 1 0 0 0 0\n",
      " 0 0 1 1 1 1 0 1 0 1 1 1 0 1 1 1 0 0 0 1 1 0 1 1 0 0 1 1 0 1 0 1 1 1 1 0 0\n",
      " 0 1 0 0 1 1 0 1 1 0 0 0 1 1 1 1 0 0 0 0 0 0 0 1 0 1 1 0 0 0 0 0 0 1 1 1 1\n",
      " 1 0 0 0 0 1 1 0 0 0 1 1 0 1 0 0 0 1 0 1 1 1 0 1 1 0 0 0 0 1 1 0 0 0 0 0 0\n",
      " 1 0 0 0 0 1 0 1 0 1 1 0 0 0 0 0 0 0 0 1 1 0 1 1 1 1 0 0 1 0 1 0 0 1 0 0 1\n",
      " 1 1 1 1 1 1 0 0 0 1 0 1 0 1 1 0 1 0 0 0 0 0 0 0 0 1 0 0 1 1 0 0 0 0 0 1 0\n",
      " 0 0 1 1 0 1 0 0 1 0 0 0 0 0 0 1 0 0 0 0 0 0 0 1 0 1 1 0 1 1 0 1 1 0 0 1 0\n",
      " 1 0 1 0 0 1 0 0 1 0 0 0 1 0 0 1 0 1 0 1 0 1 1 0 0 1 0 0 1 1 0 1 1 0 0 1 1\n",
      " 0 1 0 1 1 0 0 0 0 0 0 0 0 0 1 1 1 1 1 0 0 1 1 0 1 1 1 0 0 0 1 0 1 0 0 0 1\n",
      " 0 0 0 0 1 0 0 1 1 0 0 0 1 0 0 1 1 1 0 0 1 0 0 1 0 0 1 0 0 1 1 0 0 0 0 1 0\n",
      " 0 1 0 1 0 0 1 0 0 0 0 0 1 0 1 1 1 0 1 0 1 0 1 0 1 0 0 0 0 0 0 1 0 0 0 1 0\n",
      " 0 0 0 1 1 0 0 1 0 0 0 1 0 1 0 1 0 0 0 0 0 0 0 1 1 1 1 0 0 0 0 1 0 0 1 1 0\n",
      " 0 0 0 1 1 1 1 1 0 1 0 0 0 1 1 0 0 1 0 0 0 1 0 1 1 0 0 1 0 0 0 0 0 0 1 0 0\n",
      " 1 0 1 0 1 0 0 1 0 0 1 1 0 0 1 1 0 0 0 1 0 0 1 1 0 1 0 0 0 0 0 0 0 0 1 0 0\n",
      " 1 0 1 1 1 0 0 0 0 1 0 1 0 0 0 0 0 0 0 1 1 0 0 0 1 1 1 1 0 0 0 0 1 0 0 0 0\n",
      " 0 0 0 0 0 0 1 1 0 1 0 0 0 1 1 1 1 1 0 0 0 1 0 0 1 1 0 0 1 0 0 0 0 0 0 1 0\n",
      " 0 0 1 0 1 1 1 1 0 0 0 1 0 0 1 1 0 0 1 0 1 0 0 1 1 0 0 0 1 1 0 0 0 0 0 0 1\n",
      " 0 1 0]\n"
     ]
    }
   ],
   "source": [
    "# Print the feature variables 'x' and the target variable 'y'\n",
    "print(x,'\\n\\n')\n",
    "print(y)"
   ]
  },
  {
   "cell_type": "code",
   "execution_count": 25,
   "id": "9cc418dd",
   "metadata": {},
   "outputs": [],
   "source": [
    "# Splitting the data into training and testing sets\n",
    "# 'x_train' and 'y_train' will contain the training data, while 'x_test' and 'y_test' will contain the testing data\n",
    "# The data is divided into 80% training and 20% testing, and a random state is set for reproducibility\n",
    "\n",
    "from sklearn.model_selection import train_test_split\n",
    "x_train,x_test,y_train,y_test = train_test_split(x,y,test_size=0.20,random_state=2)"
   ]
  },
  {
   "cell_type": "code",
   "execution_count": 26,
   "id": "dfa35386",
   "metadata": {},
   "outputs": [
    {
     "name": "stdout",
     "output_type": "stream",
     "text": [
      "Train: (712, 7), (712,)\n",
      "Test: (179, 7), (179,)\n"
     ]
    }
   ],
   "source": [
    "# Print the shapes of the training and testing sets to check their dimensions\n",
    "print(f\"Train: {x_train.shape}, {y_train.shape}\")\n",
    "print(f\"Test: {x_test.shape}, {y_test.shape}\")"
   ]
  },
  {
   "cell_type": "code",
   "execution_count": 27,
   "id": "6ad8a5b9",
   "metadata": {},
   "outputs": [],
   "source": [
    "# Create a Logistic Regression model with specified hyperparameters\n",
    "\n",
    "from sklearn.linear_model import LogisticRegression\n",
    "logit = LogisticRegression(C=1.0,penalty='l2',solver='lbfgs',max_iter=100,class_weight=None)"
   ]
  },
  {
   "cell_type": "markdown",
   "id": "547090f1",
   "metadata": {},
   "source": [
    "# Using K-Fold Cross-validation for model selction"
   ]
  },
  {
   "cell_type": "code",
   "execution_count": 28,
   "id": "84f14b40",
   "metadata": {},
   "outputs": [
    {
     "name": "stdout",
     "output_type": "stream",
     "text": [
      "========================================\n",
      "Logistic_Reg\n",
      "Scores : [0.78888889 0.79775281 0.74157303 0.83146067 0.80898876 0.76404494\n",
      " 0.78651685 0.7752809  0.80898876 0.83146067]\n",
      "Mean Score:0.7934956304619226\n"
     ]
    }
   ],
   "source": [
    "# Define a scoring metric for K-fold cross-validation using accuracy_score\n",
    "from sklearn.metrics import accuracy_score\n",
    "\n",
    "def cv_scoring(estimator, x, y):\n",
    "    return accuracy_score(y, estimator.predict(x))\n",
    "\n",
    "# Initialize models\n",
    "models = {\n",
    "    'Logistic_Reg': LogisticRegression(C=1.0, penalty='l2', solver='lbfgs', max_iter=100),\n",
    "}\n",
    "\n",
    "from sklearn.model_selection import cross_val_score\n",
    "\n",
    "# Produce cross-validation scores for the models\n",
    "for model_name in models:\n",
    "    model = models[model_name]\n",
    "    \n",
    "    # Perform K-fold cross-validation with K=10 folds\n",
    "    scores = cross_val_score(model, x, y, cv=10, n_jobs=-1, scoring=cv_scoring)\n",
    "    \n",
    "    print(\"==\" * 20)\n",
    "    print(model_name)\n",
    "    print(f'Scores : {scores}')\n",
    "    print(f\"Mean Score: {np.mean(scores)}\")"
   ]
  },
  {
   "cell_type": "code",
   "execution_count": 29,
   "id": "505e7ca2",
   "metadata": {},
   "outputs": [
    {
     "name": "stdout",
     "output_type": "stream",
     "text": [
      "LogisticRegression is Sucessfully Trained\n"
     ]
    },
    {
     "name": "stderr",
     "output_type": "stream",
     "text": [
      "C:\\Users\\Jaiku\\AppData\\Local\\Programs\\Python\\Python310\\lib\\site-packages\\sklearn\\linear_model\\_logistic.py:444: ConvergenceWarning: lbfgs failed to converge (status=1):\n",
      "STOP: TOTAL NO. of ITERATIONS REACHED LIMIT.\n",
      "\n",
      "Increase the number of iterations (max_iter) or scale the data as shown in:\n",
      "    https://scikit-learn.org/stable/modules/preprocessing.html\n",
      "Please also refer to the documentation for alternative solver options:\n",
      "    https://scikit-learn.org/stable/modules/linear_model.html#logistic-regression\n",
      "  n_iter_i = _check_optimize_result(\n"
     ]
    }
   ],
   "source": [
    "# Train a Logistic Regression model using the training data\n",
    "Log_model = logit.fit(x_train, y_train)\n",
    "\n",
    "# Print a success message to indicate that training is complete\n",
    "print('Logistic Regression is Successfully Trained')"
   ]
  },
  {
   "cell_type": "code",
   "execution_count": 30,
   "id": "f4a2b55b",
   "metadata": {},
   "outputs": [],
   "source": [
    "# Import scikit-learn metrics for model evaluation\n",
    "from sklearn.metrics import accuracy_score,classification_report,confusion_matrix"
   ]
  },
  {
   "cell_type": "code",
   "execution_count": 33,
   "id": "82d0a078",
   "metadata": {},
   "outputs": [],
   "source": [
    "# Predict labels on the training data using the Logistic Regression model\n",
    "y_train_pred1 = logit.predict(x_train)"
   ]
  },
  {
   "cell_type": "code",
   "execution_count": 35,
   "id": "07ac89ba",
   "metadata": {},
   "outputs": [
    {
     "name": "stdout",
     "output_type": "stream",
     "text": [
      "LogisticRegression Predicted Trained Accuracy\n",
      "Log_model train accuracy 0.8089887640449438\n"
     ]
    }
   ],
   "source": [
    "# Print the accuracy of Logistic Regression predictions on the training data\n",
    "print('LogisticRegression Predicted Trained Accuracy')\n",
    "print(f'Log_model train accuracy {accuracy_score(y_train_pred1,y_train)}')"
   ]
  },
  {
   "cell_type": "code",
   "execution_count": 36,
   "id": "03d5e707",
   "metadata": {},
   "outputs": [],
   "source": [
    "# Predict labels on the testing data using the Logistic Regression model\n",
    "y_test_pred = logit.predict(x_test)"
   ]
  },
  {
   "cell_type": "code",
   "execution_count": 38,
   "id": "28337055",
   "metadata": {},
   "outputs": [
    {
     "name": "stdout",
     "output_type": "stream",
     "text": [
      "LogisticRegression Predicted Test Accuracy\n",
      "Log_model test accuracy 0.7821229050279329\n"
     ]
    }
   ],
   "source": [
    "# Print the accuracy of Logistic Regression predictions on the testing data\n",
    "print('LogisticRegression Predicted Test Accuracy')\n",
    "print(f'Log_model test accuracy {accuracy_score(y_test_pred,y_test)}')"
   ]
  },
  {
   "cell_type": "markdown",
   "id": "059a5fcc",
   "metadata": {},
   "source": [
    "Training -set accuracy acore is 80% while the test-set accuracy to be a 78%\n",
    ".These two values arr quite comparable. so, there is no question of overfitting"
   ]
  },
  {
   "cell_type": "markdown",
   "id": "0caaf8e8",
   "metadata": {},
   "source": [
    "# Matrix For Model Evalution"
   ]
  },
  {
   "cell_type": "code",
   "execution_count": 39,
   "id": "7741a278",
   "metadata": {},
   "outputs": [
    {
     "name": "stdout",
     "output_type": "stream",
     "text": [
      "Confusion matrix\n",
      "\n",
      " [[91  9]\n",
      " [30 49]]\n",
      "\n",
      "True Positives(TP) =  91\n",
      "\n",
      "True Negatives(TN) =  49\n",
      "\n",
      "False Positives(FP) =  9\n",
      "\n",
      "False Negatives(FN) =  30\n"
     ]
    }
   ],
   "source": [
    "# Compute and print the confusion matrix and its components\n",
    "cm = confusion_matrix(y_test, y_test_pred)\n",
    "\n",
    "# Print the confusion matrix\n",
    "print('Confusion matrix\\n\\n', cm)\n",
    "\n",
    "# Print the count of True Positives (TP)\n",
    "print('\\nTrue Positives (TP) = ', cm[0, 0])\n",
    "\n",
    "# Print the count of True Negatives (TN)\n",
    "print('\\nTrue Negatives (TN) = ', cm[1, 1])\n",
    "\n",
    "# Print the count of False Positives (FP)\n",
    "print('\\nFalse Positives (FP) = ', cm[0, 1])\n",
    "\n",
    "# Print the count of False Negatives (FN)\n",
    "print('\\nFalse Negatives (FN) = ', cm[1, 0])"
   ]
  },
  {
   "cell_type": "code",
   "execution_count": 40,
   "id": "0df81494",
   "metadata": {},
   "outputs": [
    {
     "data": {
      "image/png": "[encoded data removed]",
      "text/plain": [
       "<Figure size 640x480 with 2 Axes>"
      ]
     },
     "metadata": {},
     "output_type": "display_data"
    }
   ],
   "source": [
    "# Create a DataFrame to display the confusion matrix with labeled axes\n",
    "cm_matrix = pd.DataFrame(data=cm, columns=['Actual Negative:0', 'Actual Positive:1'], \n",
    "                         index=['Predict Negative:0', 'Predict Positive:1'])\n",
    "\n",
    "# Create a heatmap using seaborn to visualize the confusion matrix\n",
    "sns.heatmap(cm_matrix, annot=True, fmt='d', cmap='YlGnBu')\n",
    "\n",
    "# Add a title to the heatmap\n",
    "plt.title('Confusion Matrix')\n",
    "\n",
    "# Display the heatmap\n",
    "plt.show()"
   ]
  },
  {
   "cell_type": "code",
   "execution_count": 41,
   "id": "fde33509",
   "metadata": {},
   "outputs": [
    {
     "name": "stdout",
     "output_type": "stream",
     "text": [
      "Classification Report\n",
      "\n",
      "\t               precision    recall  f1-score   support\n",
      "\n",
      "           0       0.91      0.75      0.82       121\n",
      "           1       0.62      0.84      0.72        58\n",
      "\n",
      "    accuracy                           0.78       179\n",
      "   macro avg       0.77      0.80      0.77       179\n",
      "weighted avg       0.82      0.78      0.79       179\n",
      "\n"
     ]
    }
   ],
   "source": [
    "# Print the classification report for model evaluation\n",
    "print(f'Classification Report\\n\\n\\t {classification_report(y_test_pred,y_test)}')"
   ]
  },
  {
   "cell_type": "code",
   "execution_count": 42,
   "id": "f9412afd",
   "metadata": {},
   "outputs": [
    {
     "name": "stdout",
     "output_type": "stream",
     "text": [
      "Classification accuracy : 0.7821\n",
      "\n",
      "\n",
      "Classification error : 0.2179\n",
      "\n",
      "\n",
      "Precision : 0.9100\n",
      "\n",
      "\n",
      "Recall or Sensitivity : 0.7521\n",
      "\n",
      "\n",
      "Specificity : 0.8448\n"
     ]
    }
   ],
   "source": [
    "# Calculate and print various classification metrics based on the confusion matrix\n",
    "\n",
    "# Calculate True Positives (TP), True Negatives (TN), False Positives (FP), and False Negatives (FN)\n",
    "TP = cm[0, 0]\n",
    "TN = cm[1, 1]\n",
    "FP = cm[0, 1]\n",
    "FN = cm[1, 0]\n",
    "\n",
    "# Calculate and print classification accuracy\n",
    "classification_accuracy = (TP + TN) / float(TP + TN + FP + FN)\n",
    "print('Classification Accuracy : {0:0.4f}'.format(classification_accuracy))\n",
    "print('\\n')\n",
    "\n",
    "# Calculate and print classification error\n",
    "classification_error = (FP + FN) / float(TP + TN + FP + FN)\n",
    "print('Classification Error : {0:0.4f}'.format(classification_error))\n",
    "print('\\n')\n",
    "\n",
    "# Calculate and print precision score\n",
    "precision = TP / float(TP + FP)\n",
    "print('Precision : {0:0.4f}'.format(precision))\n",
    "print('\\n')\n",
    "\n",
    "# Calculate and print recall (sensitivity)\n",
    "recall = TP / float(TP + FN)\n",
    "print('Recall (Sensitivity) : {0:0.4f}'.format(recall))\n",
    "print('\\n')\n",
    "\n",
    "# Calculate and print specificity\n",
    "specificity = TN / (TN + FP)\n",
    "print('Specificity : {0:0.4f}'.format(specificity))\n"
   ]
  },
  {
   "cell_type": "code",
   "execution_count": 43,
   "id": "304755fa",
   "metadata": {},
   "outputs": [
    {
     "data": {
      "image/png": "[encoded data removed]",
      "text/plain": [
       "<Figure size 600x400 with 1 Axes>"
      ]
     },
     "metadata": {},
     "output_type": "display_data"
    }
   ],
   "source": [
    "# Plot the ROC Curve for model evaluation\n",
    "\n",
    "# Import the roc_curve function from scikit-learn\n",
    "from sklearn.metrics import roc_curve\n",
    "\n",
    "# Calculate the false positive rate (fpr), true positive rate (tpr), and thresholds\n",
    "fpr, tpr, thresholds = roc_curve(y_test, y_test_pred)\n",
    "\n",
    "# Create a new figure for the ROC curve\n",
    "plt.figure(figsize=(6, 4))\n",
    "\n",
    "# Plot the ROC curve\n",
    "plt.plot(fpr, tpr, linewidth=2)\n",
    "\n",
    "# Plot the diagonal line for reference (random classifier)\n",
    "plt.plot([0, 1], [0, 1], 'k--')\n",
    "\n",
    "# Set the font size for labels\n",
    "plt.rcParams['font.size'] = 12\n",
    "\n",
    "# Set the title for the ROC curve plot\n",
    "plt.title('ROC curve for Survived classifier')\n",
    "\n",
    "# Label the x-axis\n",
    "plt.xlabel('False Positive Rate (1 - Specificity)')\n",
    "\n",
    "# Label the y-axis\n",
    "plt.ylabel('True Positive Rate (Sensitivity)')\n",
    "\n",
    "# Display the ROC curve plot\n",
    "plt.show()"
   ]
  },
  {
   "cell_type": "code",
   "execution_count": 44,
   "id": "12ce8fdf",
   "metadata": {},
   "outputs": [
    {
     "name": "stdout",
     "output_type": "stream",
     "text": [
      "ROC AUC : 0.7651\n"
     ]
    }
   ],
   "source": [
    "# Calculate and print the ROC AUC score for model evaluation\n",
    "\n",
    "# Import the roc_auc_score function from scikit-learn\n",
    "from sklearn.metrics import roc_auc_score\n",
    "\n",
    "# Calculate the ROC AUC score by comparing predicted labels to actual labels\n",
    "ROC_AUC = roc_auc_score(y_test, y_test_pred)\n",
    "\n",
    "# Print the ROC AUC score with 4 decimal places\n",
    "print('ROC AUC : {:.4f}'.format(ROC_AUC))\n"
   ]
  },
  {
   "cell_type": "markdown",
   "id": "3be3950a",
   "metadata": {},
   "source": [
    "The ROC AUC score provides a value between 0 and 1, where a higher score indicates better discrimination power of the model. \n",
    "In this case, the ROC AUC value is 0.7651, indicating that the model's ability to distinguish between classes is reasonably good."
   ]
  },
  {
   "cell_type": "markdown",
   "id": "ea752c1d",
   "metadata": {},
   "source": [
    "# Training the Model on whole training datasets"
   ]
  },
  {
   "cell_type": "code",
   "execution_count": 50,
   "id": "70ca8b6c",
   "metadata": {},
   "outputs": [],
   "source": [
    "# Initialize the final Logistic Regression model\n",
    "\n",
    "final_logit_model = LogisticRegression(\n",
    "    C=1.0,           # Inverse of regularization strength (default value)\n",
    "    penalty='l2',    # Regularization penalty: L2 (ridge)\n",
    "    solver='lbfgs',  # Algorithm to use for optimization\n",
    "    max_iter=100,    # Maximum number of iterations for convergence\n",
    "    class_weight=None # Weights for class balancing (None for equal weights)\n",
    ")"
   ]
  },
  {
   "cell_type": "code",
   "execution_count": 51,
   "id": "2304b911",
   "metadata": {},
   "outputs": [
    {
     "name": "stderr",
     "output_type": "stream",
     "text": [
      "C:\\Users\\Jaiku\\AppData\\Local\\Programs\\Python\\Python310\\lib\\site-packages\\sklearn\\linear_model\\_logistic.py:444: ConvergenceWarning: lbfgs failed to converge (status=1):\n",
      "STOP: TOTAL NO. of ITERATIONS REACHED LIMIT.\n",
      "\n",
      "Increase the number of iterations (max_iter) or scale the data as shown in:\n",
      "    https://scikit-learn.org/stable/modules/preprocessing.html\n",
      "Please also refer to the documentation for alternative solver options:\n",
      "    https://scikit-learn.org/stable/modules/linear_model.html#logistic-regression\n",
      "  n_iter_i = _check_optimize_result(\n"
     ]
    },
    {
     "data": {
      "text/html": [
       "<style>#sk-container-id-1 {color: black;background-color: white;}#sk-container-id-1 pre{padding: 0;}#sk-container-id-1 div.sk-toggleable {background-color: white;}#sk-container-id-1 label.sk-toggleable__label {cursor: pointer;display: block;width: 100%;margin-bottom: 0;padding: 0.3em;box-sizing: border-box;text-align: center;}#sk-container-id-1 label.sk-toggleable__label-arrow:before {content: \"▸\";float: left;margin-right: 0.25em;color: #696969;}#sk-container-id-1 label.sk-toggleable__label-arrow:hover:before {color: black;}#sk-container-id-1 div.sk-estimator:hover label.sk-toggleable__label-arrow:before {color: black;}#sk-container-id-1 div.sk-toggleable__content {max-height: 0;max-width: 0;overflow: hidden;text-align: left;background-color: #f0f8ff;}#sk-container-id-1 div.sk-toggleable__content pre {margin: 0.2em;color: black;border-radius: 0.25em;background-color: #f0f8ff;}#sk-container-id-1 input.sk-toggleable__control:checked~div.sk-toggleable__content {max-height: 200px;max-width: 100%;overflow: auto;}#sk-container-id-1 input.sk-toggleable__control:checked~label.sk-toggleable__label-arrow:before {content: \"▾\";}#sk-container-id-1 div.sk-estimator input.sk-toggleable__control:checked~label.sk-toggleable__label {background-color: #d4ebff;}#sk-container-id-1 div.sk-label input.sk-toggleable__control:checked~label.sk-toggleable__label {background-color: #d4ebff;}#sk-container-id-1 input.sk-hidden--visually {border: 0;clip: rect(1px 1px 1px 1px);clip: rect(1px, 1px, 1px, 1px);height: 1px;margin: -1px;overflow: hidden;padding: 0;position: absolute;width: 1px;}#sk-container-id-1 div.sk-estimator {font-family: monospace;background-color: #f0f8ff;border: 1px dotted black;border-radius: 0.25em;box-sizing: border-box;margin-bottom: 0.5em;}#sk-container-id-1 div.sk-estimator:hover {background-color: #d4ebff;}#sk-container-id-1 div.sk-parallel-item::after {content: \"\";width: 100%;border-bottom: 1px solid gray;flex-grow: 1;}#sk-container-id-1 div.sk-label:hover label.sk-toggleable__label {background-color: #d4ebff;}#sk-container-id-1 div.sk-serial::before {content: \"\";position: absolute;border-left: 1px solid gray;box-sizing: border-box;top: 0;bottom: 0;left: 50%;z-index: 0;}#sk-container-id-1 div.sk-serial {display: flex;flex-direction: column;align-items: center;background-color: white;padding-right: 0.2em;padding-left: 0.2em;position: relative;}#sk-container-id-1 div.sk-item {position: relative;z-index: 1;}#sk-container-id-1 div.sk-parallel {display: flex;align-items: stretch;justify-content: center;background-color: white;position: relative;}#sk-container-id-1 div.sk-item::before, #sk-container-id-1 div.sk-parallel-item::before {content: \"\";position: absolute;border-left: 1px solid gray;box-sizing: border-box;top: 0;bottom: 0;left: 50%;z-index: -1;}#sk-container-id-1 div.sk-parallel-item {display: flex;flex-direction: column;z-index: 1;position: relative;background-color: white;}#sk-container-id-1 div.sk-parallel-item:first-child::after {align-self: flex-end;width: 50%;}#sk-container-id-1 div.sk-parallel-item:last-child::after {align-self: flex-start;width: 50%;}#sk-container-id-1 div.sk-parallel-item:only-child::after {width: 0;}#sk-container-id-1 div.sk-dashed-wrapped {border: 1px dashed gray;margin: 0 0.4em 0.5em 0.4em;box-sizing: border-box;padding-bottom: 0.4em;background-color: white;}#sk-container-id-1 div.sk-label label {font-family: monospace;font-weight: bold;display: inline-block;line-height: 1.2em;}#sk-container-id-1 div.sk-label-container {text-align: center;}#sk-container-id-1 div.sk-container {/* jupyter's `normalize.less` sets `[hidden] { display: none; }` but bootstrap.min.css set `[hidden] { display: none !important; }` so we also need the `!important` here to be able to override the default hidden behavior on the sphinx rendered scikit-learn.org. See: https://github.com/scikit-learn/scikit-learn/issues/21755 */display: inline-block !important;position: relative;}#sk-container-id-1 div.sk-text-repr-fallback {display: none;}</style><div id=\"sk-container-id-1\" class=\"sk-top-container\"><div class=\"sk-text-repr-fallback\"><pre>LogisticRegression()</pre><b>In a Jupyter environment, please rerun this cell to show the HTML representation or trust the notebook. <br />On GitHub, the HTML representation is unable to render, please try loading this page with nbviewer.org.</b></div><div class=\"sk-container\" hidden><div class=\"sk-item\"><div class=\"sk-estimator sk-toggleable\"><input class=\"sk-toggleable__control sk-hidden--visually\" id=\"sk-estimator-id-1\" type=\"checkbox\" checked><label for=\"sk-estimator-id-1\" class=\"sk-toggleable__label sk-toggleable__label-arrow\">LogisticRegression</label><div class=\"sk-toggleable__content\"><pre>LogisticRegression()</pre></div></div></div></div></div>"
      ],
      "text/plain": [
       "LogisticRegression()"
      ]
     },
     "execution_count": 51,
     "metadata": {},
     "output_type": "execute_result"
    }
   ],
   "source": [
    "# Fit the final Logistic Regression model to the data\n",
    "final_logit_model.fit(x,y)"
   ]
  },
  {
   "cell_type": "markdown",
   "id": "93ff3ad1",
   "metadata": {},
   "source": [
    "# Testing Datasets"
   ]
  },
  {
   "cell_type": "code",
   "execution_count": 52,
   "id": "965a2052",
   "metadata": {},
   "outputs": [],
   "source": [
    "# Load test data from a CSV file into a Pandas DataFrame\n",
    "\n",
    "test_data = pd.read_csv(r'C:\\Users\\Jaiku\\Downloads\\test.csv')"
   ]
  },
  {
   "cell_type": "code",
   "execution_count": 53,
   "id": "069cfd1b",
   "metadata": {},
   "outputs": [
    {
     "data": {
      "text/html": [
       "<div>\n",
       "<style scoped>\n",
       "    .dataframe tbody tr th:only-of-type {\n",
       "        vertical-align: middle;\n",
       "    }\n",
       "\n",
       "    .dataframe tbody tr th {\n",
       "        vertical-align: top;\n",
       "    }\n",
       "\n",
       "    .dataframe thead th {\n",
       "        text-align: right;\n",
       "    }\n",
       "</style>\n",
       "<table border=\"1\" class=\"dataframe\">\n",
       "  <thead>\n",
       "    <tr style=\"text-align: right;\">\n",
       "      <th></th>\n",
       "      <th>PassengerId</th>\n",
       "      <th>Pclass</th>\n",
       "      <th>Name</th>\n",
       "      <th>Sex</th>\n",
       "      <th>Age</th>\n",
       "      <th>SibSp</th>\n",
       "      <th>Parch</th>\n",
       "      <th>Ticket</th>\n",
       "      <th>Fare</th>\n",
       "      <th>Cabin</th>\n",
       "      <th>Embarked</th>\n",
       "    </tr>\n",
       "  </thead>\n",
       "  <tbody>\n",
       "    <tr>\n",
       "      <th>0</th>\n",
       "      <td>892</td>\n",
       "      <td>3</td>\n",
       "      <td>Kelly, Mr. James</td>\n",
       "      <td>male</td>\n",
       "      <td>34.5</td>\n",
       "      <td>0</td>\n",
       "      <td>0</td>\n",
       "      <td>330911</td>\n",
       "      <td>7.8292</td>\n",
       "      <td>NaN</td>\n",
       "      <td>Q</td>\n",
       "    </tr>\n",
       "    <tr>\n",
       "      <th>1</th>\n",
       "      <td>893</td>\n",
       "      <td>3</td>\n",
       "      <td>Wilkes, Mrs. James (Ellen Needs)</td>\n",
       "      <td>female</td>\n",
       "      <td>47.0</td>\n",
       "      <td>1</td>\n",
       "      <td>0</td>\n",
       "      <td>363272</td>\n",
       "      <td>7.0000</td>\n",
       "      <td>NaN</td>\n",
       "      <td>S</td>\n",
       "    </tr>\n",
       "    <tr>\n",
       "      <th>2</th>\n",
       "      <td>894</td>\n",
       "      <td>2</td>\n",
       "      <td>Myles, Mr. Thomas Francis</td>\n",
       "      <td>male</td>\n",
       "      <td>62.0</td>\n",
       "      <td>0</td>\n",
       "      <td>0</td>\n",
       "      <td>240276</td>\n",
       "      <td>9.6875</td>\n",
       "      <td>NaN</td>\n",
       "      <td>Q</td>\n",
       "    </tr>\n",
       "    <tr>\n",
       "      <th>3</th>\n",
       "      <td>895</td>\n",
       "      <td>3</td>\n",
       "      <td>Wirz, Mr. Albert</td>\n",
       "      <td>male</td>\n",
       "      <td>27.0</td>\n",
       "      <td>0</td>\n",
       "      <td>0</td>\n",
       "      <td>315154</td>\n",
       "      <td>8.6625</td>\n",
       "      <td>NaN</td>\n",
       "      <td>S</td>\n",
       "    </tr>\n",
       "    <tr>\n",
       "      <th>4</th>\n",
       "      <td>896</td>\n",
       "      <td>3</td>\n",
       "      <td>Hirvonen, Mrs. Alexander (Helga E Lindqvist)</td>\n",
       "      <td>female</td>\n",
       "      <td>22.0</td>\n",
       "      <td>1</td>\n",
       "      <td>1</td>\n",
       "      <td>3101298</td>\n",
       "      <td>12.2875</td>\n",
       "      <td>NaN</td>\n",
       "      <td>S</td>\n",
       "    </tr>\n",
       "  </tbody>\n",
       "</table>\n",
       "</div>"
      ],
      "text/plain": [
       "   PassengerId  Pclass                                          Name     Sex  \\\n",
       "0          892       3                              Kelly, Mr. James    male   \n",
       "1          893       3              Wilkes, Mrs. James (Ellen Needs)  female   \n",
       "2          894       2                     Myles, Mr. Thomas Francis    male   \n",
       "3          895       3                              Wirz, Mr. Albert    male   \n",
       "4          896       3  Hirvonen, Mrs. Alexander (Helga E Lindqvist)  female   \n",
       "\n",
       "    Age  SibSp  Parch   Ticket     Fare Cabin Embarked  \n",
       "0  34.5      0      0   330911   7.8292   NaN        Q  \n",
       "1  47.0      1      0   363272   7.0000   NaN        S  \n",
       "2  62.0      0      0   240276   9.6875   NaN        Q  \n",
       "3  27.0      0      0   315154   8.6625   NaN        S  \n",
       "4  22.0      1      1  3101298  12.2875   NaN        S  "
      ]
     },
     "execution_count": 53,
     "metadata": {},
     "output_type": "execute_result"
    }
   ],
   "source": [
    "# Display the first few rows of the test dataset\n",
    "test_data.head()"
   ]
  },
  {
   "cell_type": "code",
   "execution_count": 69,
   "id": "5a274f4d",
   "metadata": {},
   "outputs": [
    {
     "data": {
      "text/plain": [
       "(418, 8)"
      ]
     },
     "execution_count": 69,
     "metadata": {},
     "output_type": "execute_result"
    }
   ],
   "source": [
    "# Get the dimensions (number of rows and columns) of the Titanic dataset\n",
    "test_data.shape"
   ]
  },
  {
   "cell_type": "code",
   "execution_count": 54,
   "id": "e1f48a11",
   "metadata": {},
   "outputs": [],
   "source": [
    "# Drop specified columns from the test dataset\n",
    "test_data.drop(['PassengerId','Name','Cabin','Ticket'],axis = 1,inplace = True)"
   ]
  },
  {
   "cell_type": "code",
   "execution_count": 55,
   "id": "06b5ff6a",
   "metadata": {},
   "outputs": [],
   "source": [
    "# Replace categorical values in the \"Sex\" and \"Embarked\" columns with numerical values in the test dataset\n",
    "test_data.replace({'Sex':{'male':0,'female':1},'Embarked':{'S':0,'C':1,'Q':3}},inplace = True)"
   ]
  },
  {
   "cell_type": "code",
   "execution_count": 60,
   "id": "12033c66",
   "metadata": {},
   "outputs": [
    {
     "data": {
      "text/plain": [
       "Pclass       0\n",
       "Sex          0\n",
       "Age         86\n",
       "SibSp        0\n",
       "Parch        0\n",
       "Fare         1\n",
       "Embarked     0\n",
       "dtype: int64"
      ]
     },
     "execution_count": 60,
     "metadata": {},
     "output_type": "execute_result"
    }
   ],
   "source": [
    "# Check and count missing values in the columns of the test dataset\n",
    "test_data.isnull().sum()"
   ]
  },
  {
   "cell_type": "code",
   "execution_count": 61,
   "id": "a5cce0b9",
   "metadata": {},
   "outputs": [],
   "source": [
    "# Fill missing values in the \"Age\" and \"Fare\" columns with their respective mean values in the test dataset\n",
    "test_data['Age'].fillna(test_data['Age'].mean(),inplace=True)\n",
    "test_data['Fare'].fillna(test_data['Fare'].mean(),inplace=True)"
   ]
  },
  {
   "cell_type": "code",
   "execution_count": 63,
   "id": "bd179cf5",
   "metadata": {},
   "outputs": [
    {
     "data": {
      "text/plain": [
       "Pclass      0\n",
       "Sex         0\n",
       "Age         0\n",
       "SibSp       0\n",
       "Parch       0\n",
       "Fare        0\n",
       "Embarked    0\n",
       "dtype: int64"
      ]
     },
     "execution_count": 63,
     "metadata": {},
     "output_type": "execute_result"
    }
   ],
   "source": [
    "# Check for and count the missing (null) values in each column of the Titanic dataset\n",
    "test_data.isnull().sum()"
   ]
  },
  {
   "cell_type": "markdown",
   "id": "92bf2a6e",
   "metadata": {},
   "source": [
    "Verify that the dataset has no null values in any columns ,If 'missing_values' is empty, it means there are no null values"
   ]
  },
  {
   "cell_type": "code",
   "execution_count": 66,
   "id": "a0ebade7",
   "metadata": {},
   "outputs": [
    {
     "name": "stderr",
     "output_type": "stream",
     "text": [
      "C:\\Users\\Jaiku\\AppData\\Local\\Programs\\Python\\Python310\\lib\\site-packages\\sklearn\\base.py:443: UserWarning: X has feature names, but LogisticRegression was fitted without feature names\n",
      "  warnings.warn(\n"
     ]
    }
   ],
   "source": [
    "# Predict survival outcomes for the test dataset using the final Logistic Regression model\n",
    "predicted_survival = final_logit_model.predict(test_data)"
   ]
  },
  {
   "cell_type": "code",
   "execution_count": 67,
   "id": "84579607",
   "metadata": {},
   "outputs": [],
   "source": [
    "# Add a new column \"Pred_Survival\" to the test dataset and populate it with predicted survival outcomes\n",
    "test_data['Pred_Survival'] = predicted_survival"
   ]
  },
  {
   "cell_type": "markdown",
   "id": "2ea277f5",
   "metadata": {},
   "source": [
    "predicted_survival variable (the model's predictions) to the \"Pred_Survival\" column in the test dataset\n",
    "Each row in this column will contain the model's prediction for whether the corresponding passenger in the test dataset is likely to survive or not (1 for survive, 0 for not survive). \n",
    "This allows you to easily compare the model's predictions with the actual outcomes for evaluation and analysis."
   ]
  },
  {
   "cell_type": "code",
   "execution_count": 68,
   "id": "a137172e",
   "metadata": {},
   "outputs": [
    {
     "data": {
      "text/html": [
       "<div>\n",
       "<style scoped>\n",
       "    .dataframe tbody tr th:only-of-type {\n",
       "        vertical-align: middle;\n",
       "    }\n",
       "\n",
       "    .dataframe tbody tr th {\n",
       "        vertical-align: top;\n",
       "    }\n",
       "\n",
       "    .dataframe thead th {\n",
       "        text-align: right;\n",
       "    }\n",
       "</style>\n",
       "<table border=\"1\" class=\"dataframe\">\n",
       "  <thead>\n",
       "    <tr style=\"text-align: right;\">\n",
       "      <th></th>\n",
       "      <th>Pclass</th>\n",
       "      <th>Sex</th>\n",
       "      <th>Age</th>\n",
       "      <th>SibSp</th>\n",
       "      <th>Parch</th>\n",
       "      <th>Fare</th>\n",
       "      <th>Embarked</th>\n",
       "      <th>Pred_Survival</th>\n",
       "    </tr>\n",
       "  </thead>\n",
       "  <tbody>\n",
       "    <tr>\n",
       "      <th>0</th>\n",
       "      <td>3</td>\n",
       "      <td>0</td>\n",
       "      <td>34.5</td>\n",
       "      <td>0</td>\n",
       "      <td>0</td>\n",
       "      <td>7.8292</td>\n",
       "      <td>3</td>\n",
       "      <td>0</td>\n",
       "    </tr>\n",
       "    <tr>\n",
       "      <th>1</th>\n",
       "      <td>3</td>\n",
       "      <td>1</td>\n",
       "      <td>47.0</td>\n",
       "      <td>1</td>\n",
       "      <td>0</td>\n",
       "      <td>7.0000</td>\n",
       "      <td>0</td>\n",
       "      <td>0</td>\n",
       "    </tr>\n",
       "    <tr>\n",
       "      <th>2</th>\n",
       "      <td>2</td>\n",
       "      <td>0</td>\n",
       "      <td>62.0</td>\n",
       "      <td>0</td>\n",
       "      <td>0</td>\n",
       "      <td>9.6875</td>\n",
       "      <td>3</td>\n",
       "      <td>0</td>\n",
       "    </tr>\n",
       "    <tr>\n",
       "      <th>3</th>\n",
       "      <td>3</td>\n",
       "      <td>0</td>\n",
       "      <td>27.0</td>\n",
       "      <td>0</td>\n",
       "      <td>0</td>\n",
       "      <td>8.6625</td>\n",
       "      <td>0</td>\n",
       "      <td>0</td>\n",
       "    </tr>\n",
       "    <tr>\n",
       "      <th>4</th>\n",
       "      <td>3</td>\n",
       "      <td>1</td>\n",
       "      <td>22.0</td>\n",
       "      <td>1</td>\n",
       "      <td>1</td>\n",
       "      <td>12.2875</td>\n",
       "      <td>0</td>\n",
       "      <td>1</td>\n",
       "    </tr>\n",
       "  </tbody>\n",
       "</table>\n",
       "</div>"
      ],
      "text/plain": [
       "   Pclass  Sex   Age  SibSp  Parch     Fare  Embarked  Pred_Survival\n",
       "0       3    0  34.5      0      0   7.8292         3              0\n",
       "1       3    1  47.0      1      0   7.0000         0              0\n",
       "2       2    0  62.0      0      0   9.6875         3              0\n",
       "3       3    0  27.0      0      0   8.6625         0              0\n",
       "4       3    1  22.0      1      1  12.2875         0              1"
      ]
     },
     "execution_count": 68,
     "metadata": {},
     "output_type": "execute_result"
    }
   ],
   "source": [
    "# Display the first few rows of the test dataset, including the predicted survival outcomes\n",
    "\n",
    "test_data.head()"
   ]
  },
  {
   "cell_type": "code",
   "execution_count": 70,
   "id": "01cba77a",
   "metadata": {},
   "outputs": [],
   "source": [
    "# Save the final Logistic Regression model to a file using Pickle\n",
    "import pickle\n",
    "\n",
    "# 'final_logit_model': The trained Logistic Regression model to be saved\n",
    "# 'model.pkl': The name of the file where the model will be saved\n",
    "# 'wb': Open the file in binary write mode\n",
    "pickle.dump(final_logit_model, open('model.pkl', 'wb'))"
   ]
  },
  {
   "cell_type": "markdown",
   "id": "410499bb",
   "metadata": {},
   "source": [
    "# Survival Prediction"
   ]
  },
  {
   "cell_type": "code",
   "execution_count": 73,
   "id": "5658d803",
   "metadata": {},
   "outputs": [
    {
     "name": "stdout",
     "output_type": "stream",
     "text": [
      "[1]\n",
      "The person is Survived\n"
     ]
    }
   ],
   "source": [
    "# Define input data for prediction\n",
    "input_data = (1, 1, 38, 1, 0, 71.2833, 1)\n",
    "\n",
    "# Convert input_data to a NumPy array\n",
    "input_data_as_numpy_array = np.asarray(input_data)\n",
    "\n",
    "# Reshape the array as we are predicting for one instance\n",
    "input_data_reshaped = input_data_as_numpy_array.reshape(1, -1)\n",
    "\n",
    "# Use the trained model to make a survival prediction\n",
    "prediction = final_logit_model.predict(input_data_reshaped)\n",
    "\n",
    "# Print the prediction result\n",
    "print(prediction)\n",
    "\n",
    "# Interpret the prediction result\n",
    "if prediction[0] == 0:\n",
    "    print('The Person is not Survived')\n",
    "else:\n",
    "    print('The person is Survived')\n"
   ]
  },
  {
   "cell_type": "code",
   "execution_count": null,
   "id": "52872bb7",
   "metadata": {},
   "outputs": [],
   "source": []
  }
 ],
 "metadata": {
  "kernelspec": {
   "display_name": "Python 3 (ipykernel)",
   "language": "python",
   "name": "python3"
  },
  "language_info": {
   "codemirror_mode": {
    "name": "ipython",
    "version": 3
   },
   "file_extension": ".py",
   "mimetype": "text/x-python",
   "name": "python",
   "nbconvert_exporter": "python",
   "pygments_lexer": "ipython3",
   "version": "3.10.0"
  }
 },
 "nbformat": 4,
 "nbformat_minor": 5
}
